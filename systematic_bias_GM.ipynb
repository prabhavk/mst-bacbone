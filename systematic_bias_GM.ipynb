{
  "nbformat": 4,
  "nbformat_minor": 0,
  "metadata": {
    "colab": {
      "name": "systematic_bias_GM.ipynb",
      "provenance": [],
      "authorship_tag": "ABX9TyMkcCwoBZdB/B+zanSUVZkw",
      "include_colab_link": true
    },
    "kernelspec": {
      "name": "python3",
      "display_name": "Python 3"
    },
    "language_info": {
      "name": "python"
    }
  },
  "cells": [
    {
      "cell_type": "markdown",
      "metadata": {
        "id": "view-in-github",
        "colab_type": "text"
      },
      "source": [
        "<a href=\"https://colab.research.google.com/github/prabhavk/mst-backbone-repo/blob/main/systematic_bias_GM.ipynb\" target=\"_parent\"><img src=\"https://colab.research.google.com/assets/colab-badge.svg\" alt=\"Open In Colab\"/></a>"
      ]
    },
    {
      "cell_type": "code",
      "execution_count": null,
      "metadata": {
        "id": "roynWQiYUxIS"
      },
      "outputs": [],
      "source": [
        "# Select trees from RAxML grove"
      ]
    },
    {
      "cell_type": "code",
      "source": [
        "# Create non-stationary models"
      ],
      "metadata": {
        "id": "VeRN9LpQV3_N"
      },
      "execution_count": null,
      "outputs": []
    },
    {
      "cell_type": "code",
      "source": [
        "# Simulate sequence evolution"
      ],
      "metadata": {
        "id": "3A4waerSV4J2"
      },
      "execution_count": null,
      "outputs": []
    },
    {
      "cell_type": "code",
      "source": [
        "# Infer trees using mst-backbone(SEM-GM), RAxML-NG, FastTree, IQ-TREE"
      ],
      "metadata": {
        "id": "nC3AMSYvV4Sd"
      },
      "execution_count": null,
      "outputs": []
    },
    {
      "cell_type": "code",
      "source": [
        "# Quantify systematic bias"
      ],
      "metadata": {
        "id": "t6T9azpNV4dK"
      },
      "execution_count": null,
      "outputs": []
    },
    {
      "cell_type": "code",
      "source": [
        "# Create tables/plots"
      ],
      "metadata": {
        "id": "Dry5IRuPXVhF"
      },
      "execution_count": null,
      "outputs": []
    }
  ]
}