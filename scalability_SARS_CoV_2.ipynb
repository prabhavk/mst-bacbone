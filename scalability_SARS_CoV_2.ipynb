{
 "cells": [
  {
   "cell_type": "code",
   "execution_count": 13,
   "metadata": {},
   "outputs": [],
   "source": [
    "import sys\n",
    "import ete3\n",
    "import os\n",
    "import random\n",
    "from os import walk\n",
    "sys.path.insert(0,'../scripts/')\n",
    "from classDeclarationsAndFunctions import RootedTree\n",
    "from fileIO import ReadRootedTree, ReadAlignment, WriteAlignment\n",
    "from config import projectPath\n",
    "# projectPath = "
   ]
  },
  {
   "cell_type": "code",
   "execution_count": 4,
   "metadata": {},
   "outputs": [
    {
     "name": "stdout",
     "output_type": "stream",
     "text": [
      "/home/kalaghat/exaptation/Projects/MSTBasedForests/\n"
     ]
    }
   ],
   "source": [
    "# Create SARS-CoV-2 datasets for scalability\n",
    "print(projectPath)\n",
    "subsampled_nextstrain_sarscov2 = projectPath + \"data/nextstrain/subsampled_21_2_2023/aligned.fasta\"\n",
    "full_subsampled_alignment = ReadAlignment(subsampled_nextstrain_sarscov2)\n",
    "\n",
    "\n"
   ]
  },
  {
   "cell_type": "code",
   "execution_count": null,
   "metadata": {},
   "outputs": [],
   "source": [
    "seq_ids = list(full_subsampled_alignment.keys())\n",
    "full_subsampled_alignment[seq_ids[0],seq_ids[1]]"
   ]
  },
  {
   "cell_type": "code",
   "execution_count": null,
   "metadata": {},
   "outputs": [],
   "source": [
    "# create subsamples\n",
    "from random import sample\n",
    "seq_ids = list(full_subsampled_alignment.keys())\n",
    "\n",
    "reps = 10\n",
    "size_list = [1000,1500,2000,2500,3000]\n",
    "\n",
    "for rep in range(reps):\n",
    "    for size in size_list:\n",
    "        resampled_ids = sample(seq_ids,size)\n",
    "        resampled_aln = {}\n",
    "        for seq_id in resampled_ids:\n",
    "            resampled_aln[seq_id] = full_subsampled_alignment[seq_id]\n",
    "        resampled_filename = projectPath+\"data/nextstrain/subsampled_21_2_2023/resampled_\"+str(size)+\"_seqs_\"+\"rep_\"+str(rep)+\".fasta\"\n",
    "        WriteAlignment(resampled_aln,resampled_filename)\n",
    "        print (size,rep)"
   ]
  },
  {
   "cell_type": "code",
   "execution_count": null,
   "metadata": {},
   "outputs": [],
   "source": [
    "# create scripts for scalability\n",
    "method_list = ['mstbackbone','fasttree','raxmlng','iqtree']\n",
    "# Job scripts\n",
    "data_path = projectPath + \"data/\"\n",
    "tools_path_geniux = \"/project/exaptation/Tools/\"\n",
    "iqtree_script = open(\"../batch_scripts/iqtree_sars_cov2_scalability.sh\",\"w\")\n",
    "mstbackbone_script = open(\"../batch_scripts/mstbackbone_sars_cov2_scalability.sh\",\"w\")\n",
    "fasttree_script = open(\"../batch_scripts/fastree_sars_cov2_scalability.sh\",\"w\")\n",
    "raxml_script = open(\"../batch_scripts/raxml_sars_cov2_scalability.sh\",\"w\")\n",
    "\n",
    "for rep in range(reps):\n",
    "    for size in size_list:                \n",
    "        mxqsub_prefix = \"\"        \n",
    "        exp_id = \"sars_cov2_size_\"+str(size)+\"_rep_\"+str(rep)\n",
    "        sequence_file_name = projectPath+\"data/nextstrain/subsampled_21_2_2023/resampled_\"+str(size)+\"_seqs_\"+\"rep_\"+str(rep)+\".fasta\"\n",
    "        ###############        IQ-TREE      ##################\n",
    "        # mxqsub_prefix = \"mxqsub -t 2d -m 10G -n -N iqtree_scale\\t\"\n",
    "        # mxqsub_prefix += \" --stderr=err_iqtree_scalability_\"+exp_id\n",
    "        # mxqsub_prefix += \" --stdout=out_iqtree_scalability_\"+exp_id\n",
    "        iqtree_command = tools_path_geniux + \"iqtree2\"\n",
    "        iqtree_command += ' -s ' + sequence_file_name + ' -st DNA'\n",
    "        iqtree_command += ' -nt ' + str(1)\n",
    "        iqtree_command += ' -seed 1234'\n",
    "        # iqtreeCommand += ' -quiet'\n",
    "        iqtree_command += ' -redo'\n",
    "        iqtree_command += ' -pre ' + sequence_file_name + \"_iqtree2.0\"\n",
    "        iqtree_command += ' -m UNREST'\n",
    "        iqtree_script.write(mxqsub_prefix + iqtree_command + \"\\n\")\n",
    "        ###############     MST-BACKBONE     ###################\n",
    "        # mst_backbone_command\n",
    "        # mxqsub_prefix = \"mxqsub -t 2d -m 10G -n -N mstbackbone_scale\\t\"\n",
    "        # mxqsub_prefix += \" --stderr=err_mstbackbone_scalability_\" + exp_id\n",
    "        # mxqsub_prefix += \" --stdout=out_mstbackbone_scalability_\" + exp_id\n",
    "        mst_backbone_command = tools_path_geniux + \"mst-backbone\"\n",
    "        mst_backbone_command += '\\t--seq ' + sequence_file_name\n",
    "        mst_backbone_command += '\\t--out ' + exp_id\n",
    "        mstbackbone_script.write(mxqsub_prefix + mst_backbone_command + \"\\n\")\n",
    "        ###############        RAxML-NG       ##################\n",
    "        # mxqsub_prefix = \"mxqsub -t 2d -m 10G -n -N raxmlng_scale\\t\"\n",
    "        # mxqsub_prefix += \" --stderr=err_raxmlng_scalability_\" + exp_id\n",
    "        # mxqsub_prefix += \" --stdout=out_raxmlng_scalability_\" + exp_id\n",
    "        raxml_command = tools_path_geniux + \"raxml-ng\"\n",
    "        fileNamePrefix = 'RAxMLNG_' + exp_id\n",
    "        raxml_command += ' --tree pars{1}'\n",
    "        raxml_command += ' --model GTR --msa ' + sequence_file_name\n",
    "        raxml_command += ' --threads 1'\n",
    "        # raxml_command += ' --redo '\n",
    "        raxml_command += ' --tip-inner on --pat-comp on --site-repeats on'\n",
    "        raxml_command += ' --prefix ' + fileNamePrefix\n",
    "        raxml_script.write(mxqsub_prefix + raxml_command + \"\\n\")\n",
    "        #############          FastTree        ################\n",
    "        # mxqsub_prefix = \"\"\n",
    "        # mxqsub_prefix = \"mxqsub -t 2d -m 1G -n -N fasttree_scale\\t\"\n",
    "        # mxqsub_prefix += \" --stderr=err_fasttree_scalability_\"+exp_id\n",
    "        # mxqsub_prefix += \" --stdout=out_fasttree_scalability_\"+exp_id\n",
    "        output_tree_file_name = sequence_file_name + '.fasttree_newick'\n",
    "        std_err_file_name = sequence_file_name + '.fasttree_errlog'\n",
    "        fasttree_command = tools_path_geniux + 'FastTree'\n",
    "        fasttree_command += ' -nt -nosupport -nocat -gtr < '+ sequence_file_name\n",
    "        fasttree_command += ' > ' + output_tree_file_name\n",
    "        fasttree_command += ' 2> ' + std_err_file_name\n",
    "        fasttree_script.write(mxqsub_prefix + fasttree_command + \"\\n\")\n",
    "        ########################################################\n",
    "\n",
    "\n",
    "\n",
    "fasttree_script.close()\n",
    "raxml_script.close()\n",
    "mstbackbone_script.close()\n",
    "iqtree_script.close()"
   ]
  },
  {
   "cell_type": "code",
   "execution_count": 1,
   "metadata": {},
   "outputs": [],
   "source": [
    "def Get_run_time(method,size,rep):\n",
    "    # print(method, exp_id)\n",
    "    sequence_file_name = projectPath + \"data/nextstrain/subsampled_21_2_2023/resampled_\"+str(size)+\"_seqs_\"+\"rep_\"+str(rep)+\".fasta\"\n",
    "    exp_id = \"sars_cov2_size_\"+str(size)+\"_rep_\"+str(rep)\n",
    "    runTime = -1\n",
    "    if method == \"raxmlng\":\n",
    "        log_file_name = projectPath + '/batch_scripts/RAxMLNG_' + exp_id + '.raxml.log'\n",
    "        log_file = open(log_file_name,\"r\")\n",
    "        for line in log_file:\n",
    "            if line.startswith('Elapsed time:'):\n",
    "                runTime = float(line.strip().split('Elapsed time:')[1].split(' seconds')[0])\n",
    "    elif method == \"mstbackbone\":\n",
    "        log_file_name = projectPath + \"data/nextstrain/subsampled_21_2_2023/resampled_\"+str(size)+\"_seqs_\"+\"rep_\"+str(rep)+ '.mstbackbone_log'\n",
    "        log_file = open(log_file_name,\"r\")\n",
    "        for line in log_file:\n",
    "            if line.startswith('Total CPU time used is '):\n",
    "                runTime = float(line.split('Total CPU time used is ')[1].split(' second(s)')[0])    \n",
    "    elif method == \"fasttree\":\n",
    "        log_file_name = sequence_file_name + '.fasttree_errlog'\n",
    "        log_file = open(log_file_name,\"r\")\n",
    "        for line in log_file:\n",
    "            if line.startswith('Total time: '):\n",
    "                runTime = float(line.strip().split('Total time: ')[1].split(' seconds')[0])\n",
    "    elif method == \"iqtree\":\n",
    "        log_file_name = sequence_file_name + '_iqtree2.0.log'        \n",
    "        log_file = open(log_file_name,\"r\")\n",
    "        for line in log_file:\n",
    "            if line.startswith('Total CPU time used:'):\n",
    "                runTime = float(line.split('Total CPU time used: ')[1].split(' sec')[0])                \n",
    "    log_file.close()\n",
    "    return (runTime)"
   ]
  },
  {
   "cell_type": "code",
   "execution_count": null,
   "metadata": {},
   "outputs": [],
   "source": [
    "# plot run times\n",
    "method_list = ['mstbackbone']\n",
    "for rep in range(reps):\n",
    "    for size in size_list:\n",
    "        for method in method_list:\n",
    "            run_time = Get_run_time(method,size,rep)\n",
    "        \n"
   ]
  }
 ],
 "metadata": {
  "kernelspec": {
   "display_name": "Python 3",
   "language": "python",
   "name": "python3"
  },
  "language_info": {
   "codemirror_mode": {
    "name": "ipython",
    "version": 3
   },
   "file_extension": ".py",
   "mimetype": "text/x-python",
   "name": "python",
   "nbconvert_exporter": "python",
   "pygments_lexer": "ipython3",
   "version": "3.9.1"
  },
  "orig_nbformat": 4,
  "vscode": {
   "interpreter": {
    "hash": "1c81944796ab0cbe847b88ac2b8691f86c70ca3ea86bad1822326c922288ae29"
   }
  }
 },
 "nbformat": 4,
 "nbformat_minor": 2
}
