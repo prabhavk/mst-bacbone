{
 "cells": [
  {
   "cell_type": "code",
   "execution_count": 4,
   "metadata": {},
   "outputs": [],
   "source": [
    "import sys\n",
    "import ete3\n",
    "import os\n",
    "import random\n",
    "from os import walk\n",
    "sys.path.insert(0,'../scripts/')\n",
    "from classDeclarationsAndFunctions import RootedTree\n",
    "from fileIO import ReadRootedTree, ReadAlignment, WriteAlignment\n",
    "from config import projectPath\n",
    "# projectPath = "
   ]
  },
  {
   "cell_type": "code",
   "execution_count": 4,
   "metadata": {},
   "outputs": [
    {
     "name": "stdout",
     "output_type": "stream",
     "text": [
      "/home/kalaghat/exaptation/Projects/MSTBasedForests/\n"
     ]
    }
   ],
   "source": [
    "# Create SARS-CoV-2 datasets for scalability\n",
    "print(projectPath)\n",
    "subsampled_nextstrain_sarscov2 = projectPath + \"data/nextstrain/subsampled_21_2_2023/aligned.fasta\"\n",
    "full_subsampled_alignment = ReadAlignment(subsampled_nextstrain_sarscov2)\n",
    "\n",
    "\n"
   ]
  },
  {
   "cell_type": "code",
   "execution_count": null,
   "metadata": {},
   "outputs": [],
   "source": [
    "seq_ids = list(full_subsampled_alignment.keys())\n",
    "full_subsampled_alignment[seq_ids[0],seq_ids[1]]"
   ]
  },
  {
   "cell_type": "code",
   "execution_count": null,
   "metadata": {},
   "outputs": [],
   "source": [
    "# create subsamples\n",
    "from random import sample\n",
    "seq_ids = list(full_subsampled_alignment.keys())\n",
    "\n",
    "reps = 10\n",
    "size_list = [1000,1500,2000,2500,3000]\n",
    "\n",
    "for rep in range(reps):\n",
    "    for size in size_list:\n",
    "        resampled_ids = sample(seq_ids,size)\n",
    "        resampled_aln = {}\n",
    "        for seq_id in resampled_ids:\n",
    "            resampled_aln[seq_id] = full_subsampled_alignment[seq_id]\n",
    "        resampled_filename = projectPath+\"data/nextstrain/subsampled_21_2_2023/resampled_\"+str(size)+\"_seqs_\"+\"rep_\"+str(rep)+\".fasta\"\n",
    "        WriteAlignment(resampled_aln,resampled_filename)\n",
    "        print (size,rep)"
   ]
  },
  {
   "cell_type": "code",
   "execution_count": null,
   "metadata": {},
   "outputs": [],
   "source": [
    "# create scripts for scalability\n",
    "method_list = ['mstbackbone','fasttree','raxmlng','iqtree']\n",
    "# Job scripts\n",
    "data_path = projectPath + \"data/\"\n",
    "tools_path_geniux = \"/project/exaptation/Tools/\"\n",
    "iqtree_script = open(\"../batch_scripts/iqtree_sars_cov2_scalability.sh\",\"w\")\n",
    "mstbackbone_script = open(\"../batch_scripts/mstbackbone_sars_cov2_scalability.sh\",\"w\")\n",
    "fasttree_script = open(\"../batch_scripts/fastree_sars_cov2_scalability.sh\",\"w\")\n",
    "raxml_script = open(\"../batch_scripts/raxml_sars_cov2_scalability.sh\",\"w\")\n",
    "\n",
    "for rep in range(reps):\n",
    "    for size in size_list:                \n",
    "        mxqsub_prefix = \"\"        \n",
    "        exp_id = \"sars_cov2_size_\"+str(size)+\"_rep_\"+str(rep)\n",
    "        sequence_file_name = projectPath+\"data/nextstrain/subsampled_21_2_2023/resampled_\"+str(size)+\"_seqs_\"+\"rep_\"+str(rep)+\".fasta\"\n",
    "        ###############        IQ-TREE      ##################\n",
    "        # mxqsub_prefix = \"mxqsub -t 2d -m 10G -n -N iqtree_scale\\t\"\n",
    "        # mxqsub_prefix += \" --stderr=err_iqtree_scalability_\"+exp_id\n",
    "        # mxqsub_prefix += \" --stdout=out_iqtree_scalability_\"+exp_id\n",
    "        iqtree_command = tools_path_geniux + \"iqtree2\"\n",
    "        iqtree_command += ' -s ' + sequence_file_name + ' -st DNA'\n",
    "        iqtree_command += ' -nt ' + str(1)\n",
    "        iqtree_command += ' -seed 1234'\n",
    "        # iqtreeCommand += ' -quiet'\n",
    "        iqtree_command += ' -redo'\n",
    "        iqtree_command += ' -pre ' + sequence_file_name + \"_iqtree2.0\"\n",
    "        iqtree_command += ' -m UNREST'\n",
    "        iqtree_script.write(mxqsub_prefix + iqtree_command + \"\\n\")\n",
    "        ###############     MST-BACKBONE     ###################\n",
    "        # mst_backbone_command\n",
    "        # mxqsub_prefix = \"mxqsub -t 2d -m 10G -n -N mstbackbone_scale\\t\"\n",
    "        # mxqsub_prefix += \" --stderr=err_mstbackbone_scalability_\" + exp_id\n",
    "        # mxqsub_prefix += \" --stdout=out_mstbackbone_scalability_\" + exp_id\n",
    "        mst_backbone_command = tools_path_geniux + \"mst-backbone\"\n",
    "        mst_backbone_command += '\\t--seq ' + sequence_file_name\n",
    "        mst_backbone_command += '\\t--out ' + exp_id\n",
    "        mstbackbone_script.write(mxqsub_prefix + mst_backbone_command + \"\\n\")\n",
    "        ###############        RAxML-NG       ##################\n",
    "        # mxqsub_prefix = \"mxqsub -t 2d -m 10G -n -N raxmlng_scale\\t\"\n",
    "        # mxqsub_prefix += \" --stderr=err_raxmlng_scalability_\" + exp_id\n",
    "        # mxqsub_prefix += \" --stdout=out_raxmlng_scalability_\" + exp_id\n",
    "        raxml_command = tools_path_geniux + \"raxml-ng\"\n",
    "        fileNamePrefix = 'RAxMLNG_' + exp_id\n",
    "        raxml_command += ' --tree pars{1}'\n",
    "        raxml_command += ' --model GTR --msa ' + sequence_file_name\n",
    "        raxml_command += ' --threads 1'\n",
    "        # raxml_command += ' --redo '\n",
    "        raxml_command += ' --tip-inner on --pat-comp on --site-repeats on'\n",
    "        raxml_command += ' --prefix ' + fileNamePrefix\n",
    "        raxml_script.write(mxqsub_prefix + raxml_command + \"\\n\")\n",
    "        #############          FastTree        ################\n",
    "        # mxqsub_prefix = \"\"\n",
    "        # mxqsub_prefix = \"mxqsub -t 2d -m 1G -n -N fasttree_scale\\t\"\n",
    "        # mxqsub_prefix += \" --stderr=err_fasttree_scalability_\"+exp_id\n",
    "        # mxqsub_prefix += \" --stdout=out_fasttree_scalability_\"+exp_id\n",
    "        output_tree_file_name = sequence_file_name + '.fasttree_newick'\n",
    "        std_err_file_name = sequence_file_name + '.fasttree_errlog'\n",
    "        fasttree_command = tools_path_geniux + 'FastTree'\n",
    "        fasttree_command += ' -nt -nosupport -nocat -gtr < '+ sequence_file_name\n",
    "        fasttree_command += ' > ' + output_tree_file_name\n",
    "        fasttree_command += ' 2> ' + std_err_file_name\n",
    "        fasttree_script.write(mxqsub_prefix + fasttree_command + \"\\n\")\n",
    "        ########################################################\n",
    "\n",
    "\n",
    "\n",
    "fasttree_script.close()\n",
    "raxml_script.close()\n",
    "mstbackbone_script.close()\n",
    "iqtree_script.close()"
   ]
  },
  {
   "cell_type": "code",
   "execution_count": 28,
   "metadata": {},
   "outputs": [],
   "source": [
    "def Get_run_time(method,size,rep):\n",
    "    # print(method, exp_id)\n",
    "    sequence_file_name = projectPath + \"data/nextstrain/subsampled_21_2_2023/resampled_\"+str(size)+\"_seqs_\"+\"rep_\"+str(rep)+\".fasta\"\n",
    "    exp_id = \"sars_cov2_size_\"+str(size)+\"_rep_\"+str(rep)\n",
    "    runTime = -1\n",
    "    if method == \"raxmlng\":\n",
    "        log_file_name = projectPath + '/batch_scripts/RAxMLNG_' + exp_id + '.raxml.log'\n",
    "        tree_file_name = projectPath + '/batch_scripts/RAxMLNG_' + exp_id + '.raxml.bestTree'\n",
    "        if os.path.exists(log_file_name) and os.path.exists(tree_file_name):\n",
    "            if os.path.getsize(log_file_name) > 0 and os.path.getsize(tree_file_name) > 0:\n",
    "                log_file = open(log_file_name,\"r\")\n",
    "                for line in log_file:\n",
    "                    if line.startswith('Elapsed time:'):\n",
    "                        runTime = float(line.strip().split('Elapsed time:')[1].split(' seconds')[0])\n",
    "                log_file.close()\n",
    "    elif method == \"mstbackbone\":\n",
    "        log_file_name = projectPath + \"data/nextstrain/subsampled_21_2_2023/\" + exp_id + '.mstbackbone_log'\n",
    "        tree_file_name = projectPath + \"data/nextstrain/subsampled_21_2_2023/\" + exp_id +  '.unrooted_newick'\n",
    "        if os.path.exists(log_file_name) and os.path.exists(tree_file_name):\n",
    "            if os.path.getsize(log_file_name) > 0 and os.path.getsize(tree_file_name) > 0:\n",
    "                log_file = open(log_file_name,\"r\")\n",
    "                for line in log_file:\n",
    "                    if line.startswith('Total CPU time used is '):\n",
    "                        runTime = float(line.split('Total CPU time used is ')[1].split(' second(s)')[0])\n",
    "                log_file.close()    \n",
    "    elif method == \"fasttree\":\n",
    "        log_file_name = sequence_file_name + '.fasttree_errlog'\n",
    "        tree_file_name = sequence_file_name + '.fasttree_newick'\n",
    "        if os.path.exists(log_file_name) and os.path.exists(tree_file_name):\n",
    "            if os.path.getsize(log_file_name) > 0 and os.path.getsize(tree_file_name) > 0:\n",
    "                log_file = open(log_file_name,\"r\")\n",
    "                for line in log_file:\n",
    "                    if line.startswith('Total time: '):\n",
    "                        runTime = float(line.strip().split('Total time: ')[1].split(' seconds')[0])\n",
    "                log_file.close()\n",
    "    elif method == \"iqtree\":\n",
    "        log_file_name = sequence_file_name + '_iqtree2.0.log'\n",
    "        tree_file_name = sequence_file_name + '_iqtree2.0.treefile'\n",
    "        if os.path.exists(log_file_name) and os.path.exists(tree_file_name):\n",
    "            if os.path.getsize(log_file_name) > 0 and os.path.getsize(tree_file_name) > 0:\n",
    "                log_file = open(log_file_name,\"r\")\n",
    "                for line in log_file:\n",
    "                    if line.startswith('Total CPU time used:'):\n",
    "                        runTime = float(line.split('Total CPU time used: ')[1].split(' sec')[0])\n",
    "                log_file.close()\n",
    "    return (runTime)"
   ]
  },
  {
   "cell_type": "code",
   "execution_count": 25,
   "metadata": {},
   "outputs": [
    {
     "data": {
      "text/plain": [
       "274.939"
      ]
     },
     "execution_count": 25,
     "metadata": {},
     "output_type": "execute_result"
    }
   ],
   "source": [
    "size = 1000\n",
    "rep = 0\n",
    "method_list = ['mstbackbone','fasttree','raxmlng','iqtree']\n",
    "method = method_list[0]\n",
    "Get_run_time(method,size,rep)\n",
    "# log_file_name = projectPath + \"data/nextstrain/subsampled_21_2_2023/resampled_\"+str(size)+\"_seqs_\"+\"rep_\"+str(rep)+ '.mstbackbone_log'        \n",
    "# tree_file_name = projectPath + \"data/nextstrain/subsampled_21_2_2023/resampled_\"+str(size)+\"_seqs_\"+\"rep_\"+str(rep)+ '.unrooted_newick'\n",
    "# print(log_file_name)\n",
    "# os.path.exists(log_file_name)"
   ]
  },
  {
   "cell_type": "code",
   "execution_count": 29,
   "metadata": {},
   "outputs": [],
   "source": [
    "# plot run times\n",
    "\n",
    "method_list = ['mstbackbone','fasttree','raxmlng','iqtree']\n",
    "run_times_method = {}\n",
    "num_leaves_method = {}\n",
    "reps = 10\n",
    "size_list = [1000,1500,2000,2500,3000]\n",
    "for method in method_list:\n",
    "    run_times_method[method] = []\n",
    "    num_leaves_method[method] = []\n",
    "    for rep in range(reps):\n",
    "        for size in size_list:        \n",
    "            run_time = Get_run_time(method,size,rep)\n",
    "            if run_time > 0:\n",
    "                run_times_method[method].append(run_time)\n",
    "                num_leaves_method[method].append(size)\n",
    "            \n",
    "        \n"
   ]
  },
  {
   "cell_type": "code",
   "execution_count": 30,
   "metadata": {},
   "outputs": [
    {
     "data": {
      "image/png": "[encoded data removed]",
      "text/plain": [
       "<Figure size 432x288 with 1 Axes>"
      ]
     },
     "metadata": {
      "needs_background": "light"
     },
     "output_type": "display_data"
    }
   ],
   "source": [
    "method_list = ['mstbackbone','fasttree','raxmlng','iqtree']\n",
    "method_colors = {}\n",
    "method_colors_map = {}\n",
    "method_colors_map['mstbackbone'] = ['cyan']\n",
    "method_colors_map['fasttree'] = ['black']\n",
    "method_colors_map['raxmlng'] = ['fuchsia']\n",
    "method_colors_map['iqtree'] = ['darkorange']\n",
    "method_colors_map['mst'] = ['cyan']\n",
    "import matplotlib.pyplot as plt\n",
    "\n",
    "for method in method_list:\n",
    "    method_colors[method] = method_colors_map[method] * len(num_leaves_method[method])    \n",
    "    plt.scatter(num_leaves_method[method],run_times_method[method],label=method,c=method_colors[method])\n",
    "    plt.title(\"Run time analysis on SARS-CoV-2\")\n",
    "    plt.xlabel(\"Number of sequences\")\n",
    "    plt.ylabel(\"Elapsed CPU time (sec)\")        \n",
    "    plt.yscale(\"log\")\n"
   ]
  },
  {
   "cell_type": "code",
   "execution_count": 19,
   "metadata": {},
   "outputs": [
    {
     "data": {
      "text/plain": [
       "{'mstbackbone': [],\n",
       " 'fasttree': [884.28,\n",
       "  1411.06,\n",
       "  2001.88,\n",
       "  2440.82,\n",
       "  3082.18,\n",
       "  855.01,\n",
       "  1418.34,\n",
       "  1978.96,\n",
       "  2509.82,\n",
       "  2975.87,\n",
       "  860.92,\n",
       "  1370.75,\n",
       "  1986.91,\n",
       "  2446.05,\n",
       "  3133.37,\n",
       "  891.84,\n",
       "  1443.88,\n",
       "  1955.39,\n",
       "  2645.44,\n",
       "  3054.27,\n",
       "  891.07,\n",
       "  1349.51,\n",
       "  2025.8,\n",
       "  2456.56,\n",
       "  3013.0,\n",
       "  874.54,\n",
       "  1401.28,\n",
       "  1919.11,\n",
       "  2573.33,\n",
       "  3009.72,\n",
       "  936.29,\n",
       "  1442.67,\n",
       "  1947.2,\n",
       "  2466.43,\n",
       "  3159.88,\n",
       "  905.89,\n",
       "  1380.0,\n",
       "  1942.15,\n",
       "  2509.9,\n",
       "  3366.08,\n",
       "  897.81,\n",
       "  1479.36],\n",
       " 'raxmlng': [5038.369, 12990.253, 31753.293],\n",
       " 'iqtree': []}"
      ]
     },
     "execution_count": 19,
     "metadata": {},
     "output_type": "execute_result"
    }
   ],
   "source": [
    "run_times_method"
   ]
  }
 ],
 "metadata": {
  "kernelspec": {
   "display_name": "Python 3",
   "language": "python",
   "name": "python3"
  },
  "language_info": {
   "codemirror_mode": {
    "name": "ipython",
    "version": 3
   },
   "file_extension": ".py",
   "mimetype": "text/x-python",
   "name": "python",
   "nbconvert_exporter": "python",
   "pygments_lexer": "ipython3",
   "version": "3.9.1"
  },
  "orig_nbformat": 4,
  "vscode": {
   "interpreter": {
    "hash": "1c81944796ab0cbe847b88ac2b8691f86c70ca3ea86bad1822326c922288ae29"
   }
  }
 },
 "nbformat": 4,
 "nbformat_minor": 2
}
