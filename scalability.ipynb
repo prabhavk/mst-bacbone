{
 "cells": [
  {
   "cell_type": "code",
   "execution_count": 1,
   "metadata": {},
   "outputs": [],
   "source": [
    "import sys\n",
    "import ete3\n",
    "import os\n",
    "from os import walk\n",
    "sys.path.insert(0,'../scripts/')\n",
    "from classDeclarationsAndFunctions import RootedTree\n",
    "from fileIO import ReadRootedTree\n",
    "from MarkovModels import GenerateQForStationaryDistribution, Get11FreeRates\n",
    "from math import floor, ceil\n",
    "from config import projectPath\n",
    "import matplotlib.pyplot as plt\n",
    "import numpy as np"
   ]
  },
  {
   "cell_type": "code",
   "execution_count": null,
   "metadata": {},
   "outputs": [],
   "source": [
    "# scalability plot (num leaves)\n",
    "\n"
   ]
  },
  {
   "cell_type": "code",
   "execution_count": null,
   "metadata": {},
   "outputs": [],
   "source": [
    "# scalability plot (sequence length)"
   ]
  }
 ],
 "metadata": {
  "kernelspec": {
   "display_name": "Python 3.9.1",
   "language": "python",
   "name": "python3"
  },
  "language_info": {
   "codemirror_mode": {
    "name": "ipython",
    "version": 3
   },
   "file_extension": ".py",
   "mimetype": "text/x-python",
   "name": "python",
   "nbconvert_exporter": "python",
   "pygments_lexer": "ipython3",
   "version": "3.9.1"
  },
  "orig_nbformat": 4,
  "vscode": {
   "interpreter": {
    "hash": "1c81944796ab0cbe847b88ac2b8691f86c70ca3ea86bad1822326c922288ae29"
   }
  }
 },
 "nbformat": 4,
 "nbformat_minor": 2
}
